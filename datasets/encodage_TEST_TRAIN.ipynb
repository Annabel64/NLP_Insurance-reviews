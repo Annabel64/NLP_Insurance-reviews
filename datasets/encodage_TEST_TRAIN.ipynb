{
 "cells": [
  {
   "cell_type": "markdown",
   "metadata": {},
   "source": [
    "# Code formattage final Test_set and Train_set"
   ]
  },
  {
   "attachments": {},
   "cell_type": "markdown",
   "metadata": {},
   "source": [
    "The code below allowed us to format the test-set and the train_set used in the Supervised and Unsupervised Learning parts."
   ]
  },
  {
   "cell_type": "code",
   "execution_count": 96,
   "metadata": {},
   "outputs": [],
   "source": [
    "import pandas as pd "
   ]
  },
  {
   "cell_type": "code",
   "execution_count": 97,
   "metadata": {},
   "outputs": [
    {
     "name": "stdout",
     "output_type": "stream",
     "text": [
      "(659, 17)\n"
     ]
    },
    {
     "data": {
      "text/html": [
       "<div>\n",
       "<style scoped>\n",
       "    .dataframe tbody tr th:only-of-type {\n",
       "        vertical-align: middle;\n",
       "    }\n",
       "\n",
       "    .dataframe tbody tr th {\n",
       "        vertical-align: top;\n",
       "    }\n",
       "\n",
       "    .dataframe thead th {\n",
       "        text-align: right;\n",
       "    }\n",
       "</style>\n",
       "<table border=\"1\" class=\"dataframe\">\n",
       "  <thead>\n",
       "    <tr style=\"text-align: right;\">\n",
       "      <th></th>\n",
       "      <th>note</th>\n",
       "      <th>assureur</th>\n",
       "      <th>produit</th>\n",
       "      <th>day_date</th>\n",
       "      <th>day_mounth</th>\n",
       "      <th>day_year</th>\n",
       "      <th>vecteur_moyen</th>\n",
       "      <th>vecteur_0</th>\n",
       "      <th>vecteur_1</th>\n",
       "      <th>vecteur_2</th>\n",
       "      <th>vecteur_3</th>\n",
       "      <th>vecteur_4</th>\n",
       "      <th>vecteur_5</th>\n",
       "      <th>vecteur_6</th>\n",
       "      <th>vecteur_7</th>\n",
       "      <th>vecteur_8</th>\n",
       "      <th>vecteur_9</th>\n",
       "    </tr>\n",
       "  </thead>\n",
       "  <tbody>\n",
       "    <tr>\n",
       "      <th>0</th>\n",
       "      <td>5.0</td>\n",
       "      <td>direct assurance</td>\n",
       "      <td>auto</td>\n",
       "      <td>7</td>\n",
       "      <td>avril</td>\n",
       "      <td>2021</td>\n",
       "      <td>[-0.00297935  0.02599531 -0.01021236  0.012139...</td>\n",
       "      <td>-0.002979</td>\n",
       "      <td>0.025995</td>\n",
       "      <td>-0.010212</td>\n",
       "      <td>0.012139</td>\n",
       "      <td>0.010351</td>\n",
       "      <td>-0.015461</td>\n",
       "      <td>-0.010013</td>\n",
       "      <td>-0.006830</td>\n",
       "      <td>0.013929</td>\n",
       "      <td>0.028857</td>\n",
       "    </tr>\n",
       "    <tr>\n",
       "      <th>1</th>\n",
       "      <td>3.0</td>\n",
       "      <td>direct assurance</td>\n",
       "      <td>auto</td>\n",
       "      <td>30</td>\n",
       "      <td>mars</td>\n",
       "      <td>2021</td>\n",
       "      <td>[-0.00801963  0.0209054   0.02765869 -0.000743...</td>\n",
       "      <td>-0.008020</td>\n",
       "      <td>0.020905</td>\n",
       "      <td>0.027659</td>\n",
       "      <td>-0.000744</td>\n",
       "      <td>0.027265</td>\n",
       "      <td>-0.012828</td>\n",
       "      <td>0.004051</td>\n",
       "      <td>-0.005684</td>\n",
       "      <td>0.018480</td>\n",
       "      <td>-0.012093</td>\n",
       "    </tr>\n",
       "  </tbody>\n",
       "</table>\n",
       "</div>"
      ],
      "text/plain": [
       "   note          assureur produit  day_date day_mounth  day_year  \\\n",
       "0   5.0  direct assurance    auto         7      avril      2021   \n",
       "1   3.0  direct assurance    auto        30       mars      2021   \n",
       "\n",
       "                                       vecteur_moyen  vecteur_0  vecteur_1  \\\n",
       "0  [-0.00297935  0.02599531 -0.01021236  0.012139...  -0.002979   0.025995   \n",
       "1  [-0.00801963  0.0209054   0.02765869 -0.000743...  -0.008020   0.020905   \n",
       "\n",
       "   vecteur_2  vecteur_3  vecteur_4  vecteur_5  vecteur_6  vecteur_7  \\\n",
       "0  -0.010212   0.012139   0.010351  -0.015461  -0.010013  -0.006830   \n",
       "1   0.027659  -0.000744   0.027265  -0.012828   0.004051  -0.005684   \n",
       "\n",
       "   vecteur_8  vecteur_9  \n",
       "0   0.013929   0.028857  \n",
       "1   0.018480  -0.012093  "
      ]
     },
     "execution_count": 97,
     "metadata": {},
     "output_type": "execute_result"
    }
   ],
   "source": [
    "test=pd.read_csv(\"test_final.csv\")\n",
    "test.drop([\"avis\",\"avis_en\",\"auteur\",\"token_avis_en\",\"date_publication\",\"type\"],inplace=True,axis=1)\n",
    "print(test.shape)\n",
    "test.head(2)"
   ]
  },
  {
   "cell_type": "code",
   "execution_count": 98,
   "metadata": {},
   "outputs": [
    {
     "name": "stdout",
     "output_type": "stream",
     "text": [
      "(5416, 16)\n"
     ]
    },
    {
     "data": {
      "text/html": [
       "<div>\n",
       "<style scoped>\n",
       "    .dataframe tbody tr th:only-of-type {\n",
       "        vertical-align: middle;\n",
       "    }\n",
       "\n",
       "    .dataframe tbody tr th {\n",
       "        vertical-align: top;\n",
       "    }\n",
       "\n",
       "    .dataframe thead th {\n",
       "        text-align: right;\n",
       "    }\n",
       "</style>\n",
       "<table border=\"1\" class=\"dataframe\">\n",
       "  <thead>\n",
       "    <tr style=\"text-align: right;\">\n",
       "      <th></th>\n",
       "      <th>note</th>\n",
       "      <th>assureur</th>\n",
       "      <th>produit</th>\n",
       "      <th>day_date</th>\n",
       "      <th>day_month</th>\n",
       "      <th>day_year</th>\n",
       "      <th>vecteur_0</th>\n",
       "      <th>vecteur_1</th>\n",
       "      <th>vecteur_2</th>\n",
       "      <th>vecteur_3</th>\n",
       "      <th>vecteur_4</th>\n",
       "      <th>vecteur_5</th>\n",
       "      <th>vecteur_6</th>\n",
       "      <th>vecteur_7</th>\n",
       "      <th>vecteur_8</th>\n",
       "      <th>vecteur_9</th>\n",
       "    </tr>\n",
       "  </thead>\n",
       "  <tbody>\n",
       "    <tr>\n",
       "      <th>0</th>\n",
       "      <td>1</td>\n",
       "      <td>generali</td>\n",
       "      <td>vie</td>\n",
       "      <td>21</td>\n",
       "      <td>mars</td>\n",
       "      <td>2018</td>\n",
       "      <td>0.002848</td>\n",
       "      <td>0.034176</td>\n",
       "      <td>0.018522</td>\n",
       "      <td>-0.016716</td>\n",
       "      <td>0.018529</td>\n",
       "      <td>-0.003764</td>\n",
       "      <td>0.030136</td>\n",
       "      <td>0.004864</td>\n",
       "      <td>0.006238</td>\n",
       "      <td>0.010565</td>\n",
       "    </tr>\n",
       "    <tr>\n",
       "      <th>1</th>\n",
       "      <td>5</td>\n",
       "      <td>lolivier assurance</td>\n",
       "      <td>auto</td>\n",
       "      <td>6</td>\n",
       "      <td>avril</td>\n",
       "      <td>2021</td>\n",
       "      <td>0.003707</td>\n",
       "      <td>-0.007725</td>\n",
       "      <td>-0.014924</td>\n",
       "      <td>-0.007306</td>\n",
       "      <td>0.013408</td>\n",
       "      <td>-0.001732</td>\n",
       "      <td>0.021056</td>\n",
       "      <td>-0.004091</td>\n",
       "      <td>0.006557</td>\n",
       "      <td>0.010996</td>\n",
       "    </tr>\n",
       "  </tbody>\n",
       "</table>\n",
       "</div>"
      ],
      "text/plain": [
       "   note            assureur produit  day_date day_month  day_year  vecteur_0  \\\n",
       "0     1            generali     vie        21      mars      2018   0.002848   \n",
       "1     5  lolivier assurance    auto         6     avril      2021   0.003707   \n",
       "\n",
       "   vecteur_1  vecteur_2  vecteur_3  vecteur_4  vecteur_5  vecteur_6  \\\n",
       "0   0.034176   0.018522  -0.016716   0.018529  -0.003764   0.030136   \n",
       "1  -0.007725  -0.014924  -0.007306   0.013408  -0.001732   0.021056   \n",
       "\n",
       "   vecteur_7  vecteur_8  vecteur_9  \n",
       "0   0.004864   0.006238   0.010565  \n",
       "1  -0.004091   0.006557   0.010996  "
      ]
     },
     "execution_count": 98,
     "metadata": {},
     "output_type": "execute_result"
    }
   ],
   "source": [
    "train=pd.read_csv(\"train_vect.csv\")\n",
    "train.rename({\"day_month\":\"day_month\"},inplace=True,axis=1)\n",
    "train.drop([\"avis\",\"avis_en\",\"auteur\",\"token_avis_en\",\"vecteur_moyen\"],inplace=True,axis=1)\n",
    "print(train.shape)\n",
    "train.head(2)"
   ]
  },
  {
   "attachments": {},
   "cell_type": "markdown",
   "metadata": {},
   "source": [
    "## ENCODAGE DE TRAIN"
   ]
  },
  {
   "cell_type": "code",
   "execution_count": 99,
   "metadata": {},
   "outputs": [],
   "source": [
    "train_intermediaire_encodage=train.copy()"
   ]
  },
  {
   "cell_type": "code",
   "execution_count": 100,
   "metadata": {},
   "outputs": [
    {
     "data": {
      "text/plain": [
       "array(['generali', 'lolivier_assurance', 'april_moto',\n",
       "       'cegema_assurances', 'matmut', 'néoliane_santé', 'april',\n",
       "       'direct_assurance', 'maif', 'harmonie_mutuelle', 'gmf', 'mgen',\n",
       "       'eurofil', 'swisslife', 'amv', 'pacifica', 'maaf', 'afer', 'axa',\n",
       "       'macif', 'sogessur', 'mgp', 'mercer', 'zenup', 'groupama',\n",
       "       'allianz', 'cardif', 'afi_esca', 'ag2r_la_mondiale',\n",
       "       'active_assurances', 'génération', 'santiane', 'santévet',\n",
       "       'crédit_mutuel', 'assur_opoil', 'cnp_assurances', 'gan', 'lcl',\n",
       "       'mutuelle_des_motards', 'carac', 'mapa', 'sogecap', 'solly_azar',\n",
       "       'eca_assurances', 'metlife', 'assur_bon_plan', 'peyrac_assurances',\n",
       "       'euroassurance', 'malakoff_humanis', 'intériale', 'suravenir',\n",
       "       'assuronline', 'mma', 'sma', 'magnolia'], dtype=object)"
      ]
     },
     "execution_count": 100,
     "metadata": {},
     "output_type": "execute_result"
    }
   ],
   "source": [
    "def __remove_space__(x):\n",
    "    return x.replace(\" \",\"_\")\n",
    "\n",
    "train_intermediaire_encodage.assureur=train_intermediaire_encodage.assureur.apply(lambda x: __remove_space__(x))\n",
    "train_intermediaire_encodage.produit=train_intermediaire_encodage.produit.apply(lambda x: __remove_space__(x))\n",
    "\n",
    "train_intermediaire_encodage.assureur.unique()"
   ]
  },
  {
   "cell_type": "code",
   "execution_count": 101,
   "metadata": {},
   "outputs": [
    {
     "data": {
      "text/html": [
       "<div>\n",
       "<style scoped>\n",
       "    .dataframe tbody tr th:only-of-type {\n",
       "        vertical-align: middle;\n",
       "    }\n",
       "\n",
       "    .dataframe tbody tr th {\n",
       "        vertical-align: top;\n",
       "    }\n",
       "\n",
       "    .dataframe thead th {\n",
       "        text-align: right;\n",
       "    }\n",
       "</style>\n",
       "<table border=\"1\" class=\"dataframe\">\n",
       "  <thead>\n",
       "    <tr style=\"text-align: right;\">\n",
       "      <th></th>\n",
       "      <th>note</th>\n",
       "      <th>assureur</th>\n",
       "      <th>produit</th>\n",
       "      <th>day_date</th>\n",
       "      <th>day_month</th>\n",
       "      <th>day_year</th>\n",
       "      <th>vecteur_0</th>\n",
       "      <th>vecteur_1</th>\n",
       "      <th>vecteur_2</th>\n",
       "      <th>vecteur_3</th>\n",
       "      <th>...</th>\n",
       "      <th>day_mounth_mars</th>\n",
       "      <th>day_mounth_novembre</th>\n",
       "      <th>day_mounth_octobre</th>\n",
       "      <th>day_mounth_septembre</th>\n",
       "      <th>day_year_2016</th>\n",
       "      <th>day_year_2017</th>\n",
       "      <th>day_year_2018</th>\n",
       "      <th>day_year_2019</th>\n",
       "      <th>day_year_2020</th>\n",
       "      <th>day_year_2021</th>\n",
       "    </tr>\n",
       "  </thead>\n",
       "  <tbody>\n",
       "    <tr>\n",
       "      <th>0</th>\n",
       "      <td>1</td>\n",
       "      <td>generali</td>\n",
       "      <td>vie</td>\n",
       "      <td>21</td>\n",
       "      <td>mars</td>\n",
       "      <td>2018</td>\n",
       "      <td>0.002848</td>\n",
       "      <td>0.034176</td>\n",
       "      <td>0.018522</td>\n",
       "      <td>-0.016716</td>\n",
       "      <td>...</td>\n",
       "      <td>1</td>\n",
       "      <td>0</td>\n",
       "      <td>0</td>\n",
       "      <td>0</td>\n",
       "      <td>0</td>\n",
       "      <td>0</td>\n",
       "      <td>1</td>\n",
       "      <td>0</td>\n",
       "      <td>0</td>\n",
       "      <td>0</td>\n",
       "    </tr>\n",
       "    <tr>\n",
       "      <th>1</th>\n",
       "      <td>5</td>\n",
       "      <td>lolivier_assurance</td>\n",
       "      <td>auto</td>\n",
       "      <td>6</td>\n",
       "      <td>avril</td>\n",
       "      <td>2021</td>\n",
       "      <td>0.003707</td>\n",
       "      <td>-0.007725</td>\n",
       "      <td>-0.014924</td>\n",
       "      <td>-0.007306</td>\n",
       "      <td>...</td>\n",
       "      <td>0</td>\n",
       "      <td>0</td>\n",
       "      <td>0</td>\n",
       "      <td>0</td>\n",
       "      <td>0</td>\n",
       "      <td>0</td>\n",
       "      <td>0</td>\n",
       "      <td>0</td>\n",
       "      <td>0</td>\n",
       "      <td>1</td>\n",
       "    </tr>\n",
       "    <tr>\n",
       "      <th>2</th>\n",
       "      <td>4</td>\n",
       "      <td>lolivier_assurance</td>\n",
       "      <td>auto</td>\n",
       "      <td>17</td>\n",
       "      <td>juin</td>\n",
       "      <td>2021</td>\n",
       "      <td>-0.002344</td>\n",
       "      <td>0.016518</td>\n",
       "      <td>0.008020</td>\n",
       "      <td>0.013505</td>\n",
       "      <td>...</td>\n",
       "      <td>0</td>\n",
       "      <td>0</td>\n",
       "      <td>0</td>\n",
       "      <td>0</td>\n",
       "      <td>0</td>\n",
       "      <td>0</td>\n",
       "      <td>0</td>\n",
       "      <td>0</td>\n",
       "      <td>0</td>\n",
       "      <td>1</td>\n",
       "    </tr>\n",
       "  </tbody>\n",
       "</table>\n",
       "<p>3 rows × 100 columns</p>\n",
       "</div>"
      ],
      "text/plain": [
       "   note            assureur produit  day_date day_month  day_year  vecteur_0  \\\n",
       "0     1            generali     vie        21      mars      2018   0.002848   \n",
       "1     5  lolivier_assurance    auto         6     avril      2021   0.003707   \n",
       "2     4  lolivier_assurance    auto        17      juin      2021  -0.002344   \n",
       "\n",
       "   vecteur_1  vecteur_2  vecteur_3  ...  day_mounth_mars  day_mounth_novembre  \\\n",
       "0   0.034176   0.018522  -0.016716  ...                1                    0   \n",
       "1  -0.007725  -0.014924  -0.007306  ...                0                    0   \n",
       "2   0.016518   0.008020   0.013505  ...                0                    0   \n",
       "\n",
       "   day_mounth_octobre  day_mounth_septembre  day_year_2016  day_year_2017  \\\n",
       "0                   0                     0              0              0   \n",
       "1                   0                     0              0              0   \n",
       "2                   0                     0              0              0   \n",
       "\n",
       "   day_year_2018  day_year_2019  day_year_2020  day_year_2021  \n",
       "0              1              0              0              0  \n",
       "1              0              0              0              1  \n",
       "2              0              0              0              1  \n",
       "\n",
       "[3 rows x 100 columns]"
      ]
     },
     "execution_count": 101,
     "metadata": {},
     "output_type": "execute_result"
    }
   ],
   "source": [
    "train_enc=train_intermediaire_encodage.copy()\n",
    "train_enc=train_enc.join(pd.get_dummies(train_intermediaire_encodage.assureur, prefix='assureur'))\n",
    "train_enc=train_enc.join(pd.get_dummies(train_intermediaire_encodage.produit, prefix='produit'))\n",
    "train_enc=train_enc.join(pd.get_dummies(train_intermediaire_encodage.day_month, prefix='day_month'))\n",
    "train_enc=train_enc.join(pd.get_dummies(train_intermediaire_encodage.day_year, prefix='day_year'))\n",
    "train_enc.head(3)"
   ]
  },
  {
   "cell_type": "code",
   "execution_count": 102,
   "metadata": {},
   "outputs": [],
   "source": [
    "train_enc.drop(['assureur', 'produit', 'day_month', 'day_year'],axis=1,inplace=True)"
   ]
  },
  {
   "cell_type": "code",
   "execution_count": 103,
   "metadata": {},
   "outputs": [],
   "source": [
    "\n",
    "train_enc.to_csv(\"train_enc.csv\",index=False)"
   ]
  },
  {
   "cell_type": "code",
   "execution_count": 104,
   "metadata": {},
   "outputs": [
    {
     "data": {
      "text/plain": [
       "(5416, 96)"
      ]
     },
     "execution_count": 104,
     "metadata": {},
     "output_type": "execute_result"
    }
   ],
   "source": [
    "train_enc.shape"
   ]
  },
  {
   "attachments": {},
   "cell_type": "markdown",
   "metadata": {},
   "source": [
    "## Supprimer de TEST les données absentes de TRAIN"
   ]
  },
  {
   "cell_type": "code",
   "execution_count": 105,
   "metadata": {},
   "outputs": [],
   "source": [
    "assureur_train=train.assureur.unique()\n",
    "assureur_test=test.assureur.unique()\n",
    "\n",
    "produit_train=train.produit.unique()\n",
    "produit_test=test.produit.unique()\n",
    "\n",
    "\n",
    "\n",
    "year_train=train.day_year.unique()\n",
    "year_test=test.day_year.unique()\n",
    "\n",
    "\n",
    "\n",
    "assureur_to_drop=[[i for i in assureur_test if i not in assureur_train]]\n",
    "produit_to_drop=[[i for i in produit_test if i not in produit_train]]\n",
    "\n",
    "\n",
    "year_to_drop=[[i for i in year_test if i not in  year_train]]"
   ]
  },
  {
   "cell_type": "code",
   "execution_count": 106,
   "metadata": {},
   "outputs": [
    {
     "data": {
      "text/plain": [
       "[[]]"
      ]
     },
     "execution_count": 106,
     "metadata": {},
     "output_type": "execute_result"
    }
   ],
   "source": [
    "produit_to_drop"
   ]
  },
  {
   "cell_type": "code",
   "execution_count": 107,
   "metadata": {},
   "outputs": [
    {
     "data": {
      "text/plain": [
       "[[]]"
      ]
     },
     "execution_count": 107,
     "metadata": {},
     "output_type": "execute_result"
    }
   ],
   "source": [
    "assureur_to_drop"
   ]
  },
  {
   "cell_type": "code",
   "execution_count": 108,
   "metadata": {},
   "outputs": [
    {
     "data": {
      "text/plain": [
       "[[]]"
      ]
     },
     "execution_count": 108,
     "metadata": {},
     "output_type": "execute_result"
    }
   ],
   "source": [
    "year_to_drop"
   ]
  },
  {
   "cell_type": "code",
   "execution_count": 109,
   "metadata": {},
   "outputs": [
    {
     "data": {
      "text/plain": [
       "39"
      ]
     },
     "execution_count": 109,
     "metadata": {},
     "output_type": "execute_result"
    }
   ],
   "source": [
    "len(test.assureur.unique())"
   ]
  },
  {
   "attachments": {},
   "cell_type": "markdown",
   "metadata": {},
   "source": [
    "## Modification des valeur pour l'encodage "
   ]
  },
  {
   "cell_type": "code",
   "execution_count": 110,
   "metadata": {},
   "outputs": [],
   "source": [
    "test_intermediaire_encodage=test.copy()"
   ]
  },
  {
   "cell_type": "code",
   "execution_count": 111,
   "metadata": {},
   "outputs": [
    {
     "data": {
      "text/plain": [
       "array(['direct assurance', 'lolivier assurance', 'matmut', 'cardif',\n",
       "       'gmf', 'harmonie mutuelle', 'april moto', 'amv', 'maaf', 'macif',\n",
       "       'cegema assurances', 'allianz', 'april', 'santiane', 'axa',\n",
       "       'pacifica', 'gan', 'mgp', 'ag2r la mondiale', 'swisslife', 'afer',\n",
       "       'mercer', 'maif', 'cnp assurances', 'zenup', 'solly azar',\n",
       "       'assur opoil', 'assur bon plan', 'mapa', 'afi esca', 'eurofil',\n",
       "       'eca assurances', 'mutuelle des motards', 'groupama',\n",
       "       'active assurances', 'peyrac assurances', 'euroassurance',\n",
       "       'sogessur', 'mgen'], dtype=object)"
      ]
     },
     "execution_count": 111,
     "metadata": {},
     "output_type": "execute_result"
    }
   ],
   "source": [
    "test.assureur.unique()"
   ]
  },
  {
   "cell_type": "code",
   "execution_count": 112,
   "metadata": {},
   "outputs": [],
   "source": [
    "\n",
    "# u='ag2r la mondiale'\n",
    "# u.replace(\" \",\"_\")"
   ]
  },
  {
   "cell_type": "code",
   "execution_count": 113,
   "metadata": {},
   "outputs": [
    {
     "data": {
      "text/plain": [
       "array(['direct_assurance', 'lolivier_assurance', 'matmut', 'cardif',\n",
       "       'gmf', 'harmonie_mutuelle', 'april_moto', 'amv', 'maaf', 'macif',\n",
       "       'cegema_assurances', 'allianz', 'april', 'santiane', 'axa',\n",
       "       'pacifica', 'gan', 'mgp', 'ag2r_la_mondiale', 'swisslife', 'afer',\n",
       "       'mercer', 'maif', 'cnp_assurances', 'zenup', 'solly_azar',\n",
       "       'assur_opoil', 'assur_bon_plan', 'mapa', 'afi_esca', 'eurofil',\n",
       "       'eca_assurances', 'mutuelle_des_motards', 'groupama',\n",
       "       'active_assurances', 'peyrac_assurances', 'euroassurance',\n",
       "       'sogessur', 'mgen'], dtype=object)"
      ]
     },
     "execution_count": 113,
     "metadata": {},
     "output_type": "execute_result"
    }
   ],
   "source": [
    "def __remove_space__(x):\n",
    "    return x.replace(\" \",\"_\")\n",
    "\n",
    "test_intermediaire_encodage.assureur=test_intermediaire_encodage.assureur.apply(lambda x: __remove_space__(x))\n",
    "test_intermediaire_encodage.produit=test_intermediaire_encodage.produit.apply(lambda x: __remove_space__(x))\n",
    "\n",
    "test_intermediaire_encodage.assureur.unique()"
   ]
  },
  {
   "cell_type": "code",
   "execution_count": 114,
   "metadata": {},
   "outputs": [
    {
     "data": {
      "text/html": [
       "<div>\n",
       "<style scoped>\n",
       "    .dataframe tbody tr th:only-of-type {\n",
       "        vertical-align: middle;\n",
       "    }\n",
       "\n",
       "    .dataframe tbody tr th {\n",
       "        vertical-align: top;\n",
       "    }\n",
       "\n",
       "    .dataframe thead th {\n",
       "        text-align: right;\n",
       "    }\n",
       "</style>\n",
       "<table border=\"1\" class=\"dataframe\">\n",
       "  <thead>\n",
       "    <tr style=\"text-align: right;\">\n",
       "      <th></th>\n",
       "      <th>note</th>\n",
       "      <th>assureur</th>\n",
       "      <th>produit</th>\n",
       "      <th>day_date</th>\n",
       "      <th>day_mounth</th>\n",
       "      <th>day_year</th>\n",
       "      <th>vecteur_moyen</th>\n",
       "      <th>vecteur_0</th>\n",
       "      <th>vecteur_1</th>\n",
       "      <th>vecteur_2</th>\n",
       "      <th>...</th>\n",
       "      <th>day_mounth_mars</th>\n",
       "      <th>day_mounth_novembre</th>\n",
       "      <th>day_mounth_octobre</th>\n",
       "      <th>day_mounth_septembre</th>\n",
       "      <th>day_year_2016</th>\n",
       "      <th>day_year_2017</th>\n",
       "      <th>day_year_2018</th>\n",
       "      <th>day_year_2019</th>\n",
       "      <th>day_year_2020</th>\n",
       "      <th>day_year_2021</th>\n",
       "    </tr>\n",
       "  </thead>\n",
       "  <tbody>\n",
       "    <tr>\n",
       "      <th>0</th>\n",
       "      <td>5.0</td>\n",
       "      <td>direct_assurance</td>\n",
       "      <td>auto</td>\n",
       "      <td>7</td>\n",
       "      <td>avril</td>\n",
       "      <td>2021</td>\n",
       "      <td>[-0.00297935  0.02599531 -0.01021236  0.012139...</td>\n",
       "      <td>-0.002979</td>\n",
       "      <td>0.025995</td>\n",
       "      <td>-0.010212</td>\n",
       "      <td>...</td>\n",
       "      <td>0</td>\n",
       "      <td>0</td>\n",
       "      <td>0</td>\n",
       "      <td>0</td>\n",
       "      <td>0</td>\n",
       "      <td>0</td>\n",
       "      <td>0</td>\n",
       "      <td>0</td>\n",
       "      <td>0</td>\n",
       "      <td>1</td>\n",
       "    </tr>\n",
       "    <tr>\n",
       "      <th>1</th>\n",
       "      <td>3.0</td>\n",
       "      <td>direct_assurance</td>\n",
       "      <td>auto</td>\n",
       "      <td>30</td>\n",
       "      <td>mars</td>\n",
       "      <td>2021</td>\n",
       "      <td>[-0.00801963  0.0209054   0.02765869 -0.000743...</td>\n",
       "      <td>-0.008020</td>\n",
       "      <td>0.020905</td>\n",
       "      <td>0.027659</td>\n",
       "      <td>...</td>\n",
       "      <td>1</td>\n",
       "      <td>0</td>\n",
       "      <td>0</td>\n",
       "      <td>0</td>\n",
       "      <td>0</td>\n",
       "      <td>0</td>\n",
       "      <td>0</td>\n",
       "      <td>0</td>\n",
       "      <td>0</td>\n",
       "      <td>1</td>\n",
       "    </tr>\n",
       "    <tr>\n",
       "      <th>2</th>\n",
       "      <td>4.0</td>\n",
       "      <td>direct_assurance</td>\n",
       "      <td>auto</td>\n",
       "      <td>24</td>\n",
       "      <td>août</td>\n",
       "      <td>2021</td>\n",
       "      <td>[-0.01807508 -0.00113634 -0.02773536 -0.030113...</td>\n",
       "      <td>-0.018075</td>\n",
       "      <td>-0.001136</td>\n",
       "      <td>-0.027735</td>\n",
       "      <td>...</td>\n",
       "      <td>0</td>\n",
       "      <td>0</td>\n",
       "      <td>0</td>\n",
       "      <td>0</td>\n",
       "      <td>0</td>\n",
       "      <td>0</td>\n",
       "      <td>0</td>\n",
       "      <td>0</td>\n",
       "      <td>0</td>\n",
       "      <td>1</td>\n",
       "    </tr>\n",
       "  </tbody>\n",
       "</table>\n",
       "<p>3 rows × 83 columns</p>\n",
       "</div>"
      ],
      "text/plain": [
       "   note          assureur produit  day_date day_mounth  day_year  \\\n",
       "0   5.0  direct_assurance    auto         7      avril      2021   \n",
       "1   3.0  direct_assurance    auto        30       mars      2021   \n",
       "2   4.0  direct_assurance    auto        24       août      2021   \n",
       "\n",
       "                                       vecteur_moyen  vecteur_0  vecteur_1  \\\n",
       "0  [-0.00297935  0.02599531 -0.01021236  0.012139...  -0.002979   0.025995   \n",
       "1  [-0.00801963  0.0209054   0.02765869 -0.000743...  -0.008020   0.020905   \n",
       "2  [-0.01807508 -0.00113634 -0.02773536 -0.030113...  -0.018075  -0.001136   \n",
       "\n",
       "   vecteur_2  ...  day_mounth_mars  day_mounth_novembre  day_mounth_octobre  \\\n",
       "0  -0.010212  ...                0                    0                   0   \n",
       "1   0.027659  ...                1                    0                   0   \n",
       "2  -0.027735  ...                0                    0                   0   \n",
       "\n",
       "   day_mounth_septembre  day_year_2016  day_year_2017  day_year_2018  \\\n",
       "0                     0              0              0              0   \n",
       "1                     0              0              0              0   \n",
       "2                     0              0              0              0   \n",
       "\n",
       "   day_year_2019  day_year_2020  day_year_2021  \n",
       "0              0              0              1  \n",
       "1              0              0              1  \n",
       "2              0              0              1  \n",
       "\n",
       "[3 rows x 83 columns]"
      ]
     },
     "execution_count": 114,
     "metadata": {},
     "output_type": "execute_result"
    }
   ],
   "source": [
    "test_enc=test_intermediaire_encodage.copy()\n",
    "test_enc=test_enc.join(pd.get_dummies(test_intermediaire_encodage.assureur, prefix='assureur'))\n",
    "test_enc=test_enc.join(pd.get_dummies(test_intermediaire_encodage.produit, prefix='produit'))\n",
    "test_enc=test_enc.join(pd.get_dummies(test_intermediaire_encodage.day_month, prefix='day_month'))\n",
    "test_enc=test_enc.join(pd.get_dummies(test_intermediaire_encodage.day_year, prefix='day_year'))\n",
    "test_enc.head(3)"
   ]
  },
  {
   "attachments": {},
   "cell_type": "markdown",
   "metadata": {},
   "source": [
    "## Ajout dans TEST les données présentes dans TRAIN"
   ]
  },
  {
   "cell_type": "code",
   "execution_count": 115,
   "metadata": {},
   "outputs": [],
   "source": [
    "import pickle\n",
    "# Ml_regressionp_0=pickle.load(open(\"regression_4.p\",\"rb\"))\n",
    "\n",
    "# train_feature=Ml_regressionp_0.feature_name_\n",
    "train_feature=train_enc.columns\n",
    "# train_feature"
   ]
  },
  {
   "cell_type": "code",
   "execution_count": 116,
   "metadata": {},
   "outputs": [
    {
     "name": "stdout",
     "output_type": "stream",
     "text": [
      "test (659, 17)\n",
      "test_enc (659, 83)\n",
      "train 96\n"
     ]
    }
   ],
   "source": [
    "print(\"test\",test.shape)\n",
    "print(\"test_enc\",test_enc.shape)\n",
    "print(\"train\",len(train_feature))"
   ]
  },
  {
   "cell_type": "code",
   "execution_count": 117,
   "metadata": {},
   "outputs": [],
   "source": [
    "test_enc.drop(['assureur', 'produit', 'day_month', 'day_year', 'vecteur_moyen'],axis=1,inplace=True)"
   ]
  },
  {
   "cell_type": "code",
   "execution_count": 118,
   "metadata": {},
   "outputs": [],
   "source": [
    "for c in [i for i in train_feature if i not in test_enc.columns]:\n",
    "    test_enc[c]=0"
   ]
  },
  {
   "cell_type": "code",
   "execution_count": 119,
   "metadata": {},
   "outputs": [
    {
     "data": {
      "text/plain": [
       "[]"
      ]
     },
     "execution_count": 119,
     "metadata": {},
     "output_type": "execute_result"
    }
   ],
   "source": [
    "# pk j'ai des colonnes en trop ?\n",
    "\n",
    "[i for i in test_enc.columns if i not in train_feature]"
   ]
  },
  {
   "cell_type": "code",
   "execution_count": 120,
   "metadata": {},
   "outputs": [
    {
     "data": {
      "text/plain": [
       "[]"
      ]
     },
     "execution_count": 120,
     "metadata": {},
     "output_type": "execute_result"
    }
   ],
   "source": [
    "[i for i in train_feature if i not in test_enc.columns]"
   ]
  },
  {
   "cell_type": "code",
   "execution_count": 121,
   "metadata": {},
   "outputs": [
    {
     "name": "stdout",
     "output_type": "stream",
     "text": [
      "test (659, 17)\n",
      "test_enc (659, 96)\n",
      "train 96\n"
     ]
    }
   ],
   "source": [
    "print(\"test\",test.shape)\n",
    "print(\"test_enc\",test_enc.shape)\n",
    "print(\"train\",len(train_feature))"
   ]
  },
  {
   "cell_type": "code",
   "execution_count": 122,
   "metadata": {},
   "outputs": [
    {
     "name": "stdout",
     "output_type": "stream",
     "text": [
      "note\n",
      "day_date\n",
      "vecteur_0\n",
      "vecteur_1\n",
      "vecteur_2\n",
      "vecteur_3\n",
      "vecteur_4\n",
      "vecteur_5\n",
      "vecteur_6\n",
      "vecteur_7\n",
      "vecteur_8\n",
      "vecteur_9\n",
      "assureur_active_assurances\n",
      "assureur_afer\n",
      "assureur_afi_esca\n",
      "assureur_ag2r_la_mondiale\n",
      "assureur_allianz\n",
      "assureur_amv\n",
      "assureur_april\n",
      "assureur_april_moto\n",
      "assureur_assur_bon_plan\n",
      "assureur_assur_opoil\n",
      "assureur_axa\n",
      "assureur_cardif\n",
      "assureur_cegema_assurances\n",
      "assureur_cnp_assurances\n",
      "assureur_direct_assurance\n",
      "assureur_eca_assurances\n",
      "assureur_euroassurance\n",
      "assureur_eurofil\n",
      "assureur_gan\n",
      "assureur_gmf\n",
      "assureur_groupama\n",
      "assureur_harmonie_mutuelle\n",
      "assureur_lolivier_assurance\n",
      "assureur_maaf\n",
      "assureur_macif\n",
      "assureur_maif\n",
      "assureur_mapa\n",
      "assureur_matmut\n",
      "assureur_mercer\n",
      "assureur_mgen\n",
      "assureur_mgp\n",
      "assureur_mutuelle_des_motards\n",
      "assureur_pacifica\n",
      "assureur_peyrac_assurances\n",
      "assureur_santiane\n",
      "assureur_sogessur\n",
      "assureur_solly_azar\n",
      "assureur_swisslife\n",
      "assureur_zenup\n",
      "produit_animaux\n",
      "produit_auto\n",
      "produit_credit\n",
      "produit_habitation\n",
      "produit_moto\n",
      "produit_multirisqueprofessionnelle\n",
      "produit_prevoyance\n",
      "produit_sante\n",
      "produit_vie\n",
      "day_mounth_août\n",
      "day_mounth_avril\n",
      "day_mounth_décembre\n",
      "day_mounth_février\n",
      "day_mounth_janvier\n",
      "day_mounth_juillet\n",
      "day_mounth_juin\n",
      "day_mounth_mai\n",
      "day_mounth_mars\n",
      "day_mounth_novembre\n",
      "day_mounth_octobre\n",
      "day_mounth_septembre\n",
      "day_year_2016\n",
      "day_year_2017\n",
      "day_year_2018\n",
      "day_year_2019\n",
      "day_year_2020\n",
      "day_year_2021\n",
      "assureur_assuronline\n",
      "assureur_carac\n",
      "assureur_crédit_mutuel\n",
      "assureur_generali\n",
      "assureur_génération\n",
      "assureur_intériale\n",
      "assureur_lcl\n",
      "assureur_magnolia\n",
      "assureur_malakoff_humanis\n",
      "assureur_metlife\n",
      "assureur_mma\n",
      "assureur_néoliane_santé\n",
      "assureur_santévet\n",
      "assureur_sma\n",
      "assureur_sogecap\n",
      "assureur_suravenir\n",
      "produit_garantiedecennale\n",
      "produit_responsabilitecivileprofessionnelle\n"
     ]
    }
   ],
   "source": [
    "for i in test_enc.columns:\n",
    "    print(i)"
   ]
  },
  {
   "cell_type": "code",
   "execution_count": 123,
   "metadata": {},
   "outputs": [],
   "source": [
    "test_enc.to_csv(\"test_enc.csv\",index=False)"
   ]
  }
 ],
 "metadata": {
  "kernelspec": {
   "display_name": "NLP",
   "language": "python",
   "name": "python3"
  },
  "language_info": {
   "codemirror_mode": {
    "name": "ipython",
    "version": 3
   },
   "file_extension": ".py",
   "mimetype": "text/x-python",
   "name": "python",
   "nbconvert_exporter": "python",
   "pygments_lexer": "ipython3",
   "version": "3.8.15"
  },
  "orig_nbformat": 4,
  "vscode": {
   "interpreter": {
    "hash": "2d75f2eb615122c7b87493d7c90d6171d8527d1b66cfc3bcdf0093cecb33d751"
   }
  }
 },
 "nbformat": 4,
 "nbformat_minor": 2
}
